{
 "cells": [
  {
   "cell_type": "code",
   "execution_count": 1,
   "id": "ceb96a8f",
   "metadata": {},
   "outputs": [],
   "source": [
    "import numpy as np \n",
    "import matplotlib.pyplot as plt "
   ]
  },
  {
   "cell_type": "markdown",
   "id": "665c2586",
   "metadata": {},
   "source": [
    "Scikit-learn deals with learning information from one or more datasets that are represented as 2D arrays. They can be understood as a list of multi-dimensional observations. We say that the first axis of these arrays is the samples axis, while the second is the features axis."
   ]
  },
  {
   "cell_type": "code",
   "execution_count": 2,
   "id": "53f0f451",
   "metadata": {},
   "outputs": [
    {
     "data": {
      "text/plain": [
       "(150, 4)"
      ]
     },
     "execution_count": 2,
     "metadata": {},
     "output_type": "execute_result"
    }
   ],
   "source": [
    "#A simple example shipped with sckit-learn:Iris dataset \n",
    "\n",
    "from sklearn import datasets \n",
    "iris=datasets.load_iris()\n",
    "data = iris.data\n",
    "data.shape"
   ]
  },
  {
   "cell_type": "markdown",
   "id": "8acd1cfa",
   "metadata": {},
   "source": [
    "It is made of 150 observations of irises, each described by 4 features: their sepal and petal length and width, as detailed in iris.DESCR."
   ]
  },
  {
   "cell_type": "markdown",
   "id": "6447decd",
   "metadata": {},
   "source": [
    "Whe the data is not initially in the (n_samples,n_features) shape, it needs to be preprocessed in order to be used by scikit-learn "
   ]
  },
  {
   "cell_type": "markdown",
   "id": "ab4348b8",
   "metadata": {},
   "source": [
    "##### An example of reshaping data would be the digits dataset \n",
    "\n",
    "the digits is made pf 1797 8x8 images of hand-written digits "
   ]
  },
  {
   "cell_type": "code",
   "execution_count": 5,
   "id": "3d00caf1",
   "metadata": {},
   "outputs": [
    {
     "data": {
      "text/plain": [
       "(1797, 8, 8)"
      ]
     },
     "execution_count": 5,
     "metadata": {},
     "output_type": "execute_result"
    }
   ],
   "source": [
    "#load the digit dataset \n",
    "digits =datasets.load_digits()\n",
    "digits.images.shape\n"
   ]
  },
  {
   "cell_type": "code",
   "execution_count": 7,
   "id": "0bbd96b2",
   "metadata": {},
   "outputs": [
    {
     "data": {
      "text/plain": [
       "<matplotlib.image.AxesImage at 0x1f26fb21ee0>"
      ]
     },
     "execution_count": 7,
     "metadata": {},
     "output_type": "execute_result"
    },
    {
     "data": {
      "image/png": "[encoded data removed]",
      "text/plain": [
       "<Figure size 432x288 with 1 Axes>"
      ]
     },
     "metadata": {
      "needs_background": "light"
     },
     "output_type": "display_data"
    }
   ],
   "source": [
    "import matplotlib.pyplot as plt \n",
    "plt.imshow(digits.images[-1],cmap=plt.cm.gray_r)"
   ]
  },
  {
   "cell_type": "markdown",
   "id": "a1f44d98",
   "metadata": {},
   "source": [
    "To use this dataset with scikit-learn, we transform each 8x8 image into a feature vector of length 64"
   ]
  },
  {
   "cell_type": "code",
   "execution_count": 8,
   "id": "76f367fb",
   "metadata": {},
   "outputs": [
    {
     "data": {
      "text/plain": [
       "array([[ 0.,  0.,  5., ...,  0.,  0.,  0.],\n",
       "       [ 0.,  0.,  0., ..., 10.,  0.,  0.],\n",
       "       [ 0.,  0.,  0., ..., 16.,  9.,  0.],\n",
       "       ...,\n",
       "       [ 0.,  0.,  1., ...,  6.,  0.,  0.],\n",
       "       [ 0.,  0.,  2., ..., 12.,  0.,  0.],\n",
       "       [ 0.,  0., 10., ..., 12.,  1.,  0.]])"
      ]
     },
     "execution_count": 8,
     "metadata": {},
     "output_type": "execute_result"
    }
   ],
   "source": [
    "digits.images.reshape((digits.images.shape[0],-1))"
   ]
  },
  {
   "cell_type": "code",
   "execution_count": 13,
   "id": "4b5561a5",
   "metadata": {},
   "outputs": [
    {
     "data": {
      "text/plain": [
       "array([0, 1, 2])"
      ]
     },
     "execution_count": 13,
     "metadata": {},
     "output_type": "execute_result"
    }
   ],
   "source": [
    "import numpy as np\n",
    "from sklearn import datasets\n",
    "iris_X, iris_y = datasets.load_iris(return_X_y=True)\n",
    "np.unique(iris_y)"
   ]
  },
  {
   "cell_type": "code",
   "execution_count": null,
   "id": "37098c3a",
   "metadata": {},
   "outputs": [],
   "source": []
  },
  {
   "cell_type": "code",
   "execution_count": null,
   "id": "58b73cbb",
   "metadata": {},
   "outputs": [],
   "source": []
  }
 ],
 "metadata": {
  "kernelspec": {
   "display_name": "Python 3 (ipykernel)",
   "language": "python",
   "name": "python3"
  },
  "language_info": {
   "codemirror_mode": {
    "name": "ipython",
    "version": 3
   },
   "file_extension": ".py",
   "mimetype": "text/x-python",
   "name": "python",
   "nbconvert_exporter": "python",
   "pygments_lexer": "ipython3",
   "version": "3.9.7"
  }
 },
 "nbformat": 4,
 "nbformat_minor": 5
}
